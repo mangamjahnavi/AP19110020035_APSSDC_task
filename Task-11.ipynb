{
 "cells": [
  {
   "cell_type": "markdown",
   "metadata": {},
   "source": [
    "**Take a list of years between 1800 to 2030 and also display all the leap years which is divisible by 5.**"
   ]
  },
  {
   "cell_type": "code",
   "execution_count": 1,
   "metadata": {},
   "outputs": [
    {
     "name": "stdout",
     "output_type": "stream",
     "text": [
      "[1820, 1840, 1860, 1880, 1920, 1940, 1960, 1980, 2000, 2020]\n",
      "These are the leap years from 1800 to 2300 and they are divisible by 5 \n"
     ]
    }
   ],
   "source": [
    "y1=1800\n",
    "y2=2030\n",
    "print([i for i in range(y1, y2 + 1) if (i%4 == 0 and i%100 != 0 and i%5==0) or (i%400 == 0)])\n",
    "print(\"These are the leap years from 1800 to 2300 and they are divisible by 5 \")"
   ]
  }
 ],
 "metadata": {
  "kernelspec": {
   "display_name": "Python 3",
   "language": "python",
   "name": "python3"
  },
  "language_info": {
   "codemirror_mode": {
    "name": "ipython",
    "version": 3
   },
   "file_extension": ".py",
   "mimetype": "text/x-python",
   "name": "python",
   "nbconvert_exporter": "python",
   "pygments_lexer": "ipython3",
   "version": "3.7.3"
  }
 },
 "nbformat": 4,
 "nbformat_minor": 2
}
