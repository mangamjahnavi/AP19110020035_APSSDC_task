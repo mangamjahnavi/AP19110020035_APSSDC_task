{
 "cells": [
  {
   "cell_type": "markdown",
   "metadata": {},
   "source": [
    "# Task-6\n",
    "- Write a Python script to print a dictionary where the keys are numbers between 1 and 15 (both included) and the values are square of keys\n",
    "- Write a Python program to map two lists into a dictionary\n",
    "- Write a Python program to sort a list alphabetically in a dictionary\n",
    "     - input : {'n1': [2, 3, 1], 'n2': [5, 1, 2], 'n3': [3, 2, 4]}\n",
    "     - output : {'n1': [1, 2, 3], 'n2': [1, 2, 5], 'n3': [2, 3, 4]}"
   ]
  },
  {
   "cell_type": "code",
   "execution_count": 1,
   "metadata": {},
   "outputs": [
    {
     "name": "stdout",
     "output_type": "stream",
     "text": [
      "Enter the number 15\n",
      "{1: 1, 2: 4, 3: 9, 4: 16, 5: 25, 6: 36, 7: 49, 8: 64, 9: 81, 10: 100, 11: 121, 12: 144, 13: 169, 14: 196, 15: 225}\n"
     ]
    }
   ],
   "source": [
    "n=int(input(\"Enter the number \"))\n",
    "dictionary = dict()\n",
    "\n",
    "for i in range(1,n+1):\n",
    "    dictionary[i]=i*i\n",
    "\n",
    "print(dictionary)\n"
   ]
  },
  {
   "cell_type": "code",
   "execution_count": 2,
   "metadata": {},
   "outputs": [
    {
     "name": "stdout",
     "output_type": "stream",
     "text": [
      "Enter the  Number of lists: 3\n",
      "Enter the key-1:Name\n",
      "Enter the key-2:Class\n",
      "Enter the key-3:Section\n",
      "Enter the Value-1:Ajay\n",
      "Enter the Value-2:12th\n",
      "Enter the Value-3:D\n",
      "Dictionary Items:   {'Name': 'Ajay', 'Class': '12th', 'Section': 'D'}\n"
     ]
    }
   ],
   "source": [
    "List1 = []\n",
    "List2 = []\n",
    "number = int(input(\"Enter the  Number of lists: \"))\n",
    "for i in range(0, number):\n",
    "    x = input(\"Enter the key-\" + str(i + 1) + \":\")\n",
    "    List1.append(x)\n",
    "for i in range(0, number):\n",
    "    x = input(\"Enter the Value-\" + str(i + 1) + \":\")\n",
    "    List2.append(x)\n",
    "    \n",
    "dict = dict(zip(List1, List2))\n",
    "print(\"Dictionary Items:  \",  dict)\n"
   ]
  },
  {
   "cell_type": "code",
   "execution_count": 3,
   "metadata": {},
   "outputs": [
    {
     "name": "stdout",
     "output_type": "stream",
     "text": [
      "{'n1': [1, 2, 3], 'n2': [1, 2, 5], 'n3': [2, 3, 4]}\n"
     ]
    }
   ],
   "source": [
    "d = {'n1': [2, 3, 1], 'n2': [5, 1, 2], 'n3': [3, 2, 4]}\n",
    "sorted_dict = {x: sorted(y) for x, y in d.items()}\n",
    "print(sorted_dict)"
   ]
  }
 ],
 "metadata": {
  "kernelspec": {
   "display_name": "Python 3",
   "language": "python",
   "name": "python3"
  },
  "language_info": {
   "codemirror_mode": {
    "name": "ipython",
    "version": 3
   },
   "file_extension": ".py",
   "mimetype": "text/x-python",
   "name": "python",
   "nbconvert_exporter": "python",
   "pygments_lexer": "ipython3",
   "version": "3.7.3"
  }
 },
 "nbformat": 4,
 "nbformat_minor": 2
}
