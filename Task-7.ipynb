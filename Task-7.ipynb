{
 "cells": [
  {
   "cell_type": "markdown",
   "metadata": {},
   "source": [
    "# Task-7"
   ]
  },
  {
   "cell_type": "code",
   "execution_count": 26,
   "metadata": {},
   "outputs": [
    {
     "name": "stdout",
     "output_type": "stream",
     "text": [
      "Enter start year:2001\n",
      "Enter End year:2021\n",
      "List of leap years:\n",
      "2004\n",
      "2008\n",
      "2012\n",
      "2016\n",
      "2020\n"
     ]
    }
   ],
   "source": [
    "#create a function for finding the leap years within the given range\n",
    "def leap_year():\n",
    "    startYear = int(input(\"Enter start year:\"))\n",
    "    endYear = int(input(\"Enter End year:\"))\n",
    "    print(\"List of leap years:\")\n",
    "    for x in range(startYear, endYear):\n",
    "          if (0 == x % 4) and (0 != x % 100) or (0 == x % 400):\n",
    "            print(x)\n",
    "leap_year()\n"
   ]
  },
  {
   "cell_type": "code",
   "execution_count": 61,
   "metadata": {},
   "outputs": [
    {
     "name": "stdout",
     "output_type": "stream",
     "text": [
      "Enter  first number:100\n",
      "Enter last number:500\n",
      "153\n",
      "370\n",
      "371\n",
      "407\n"
     ]
    }
   ],
   "source": [
    "#Create a function for getting the armstrong numbers within the given range\n",
    "def armstrong():\n",
    "    first_num = int(input(\"Enter  first number:\"))  \n",
    "    last_num= int(input(\"Enter last number:\"))  \n",
    "    for num in range(first_num,last_num + 1):\n",
    "        order = len(str(num))\n",
    "        sum = 0\n",
    "        temp = num\n",
    "        while temp > 0:\n",
    "            digit = temp % 10\n",
    "            sum += digit ** order\n",
    "            temp //= 10\n",
    "        if num == sum:\n",
    "            print(num)\n",
    "\n",
    "armstrong()\n"
   ]
  },
  {
   "cell_type": "code",
   "execution_count": 65,
   "metadata": {},
   "outputs": [
    {
     "name": "stdout",
     "output_type": "stream",
     "text": [
      "Enter first number:1\n",
      "Enter second number:50\n",
      "2\n",
      "3\n",
      "5\n",
      "7\n",
      "11\n",
      "13\n",
      "17\n",
      "19\n",
      "23\n",
      "29\n",
      "31\n",
      "37\n",
      "41\n",
      "43\n",
      "47\n"
     ]
    }
   ],
   "source": [
    "#create a function for getting the prime numbers within the range\n",
    "def prime():\n",
    "    first_num  = int(input(\"Enter first number:\"))  \n",
    "    last_num= int(input(\"Enter second number:\"))\n",
    "    for num in range(first_num, last_num + 1):\n",
    "        if num > 1:\n",
    "            for i in range(2, num):\n",
    "                if (num % i) == 0:\n",
    "                    break\n",
    "            else:\n",
    "                print(num)\n",
    "prime()\n"
   ]
  },
  {
   "cell_type": "code",
   "execution_count": 66,
   "metadata": {},
   "outputs": [
    {
     "name": "stdout",
     "output_type": "stream",
     "text": [
      "Enter the string:  Srm University\n"
     ]
    },
    {
     "data": {
      "text/plain": [
       "13"
      ]
     },
     "execution_count": 66,
     "metadata": {},
     "output_type": "execute_result"
    }
   ],
   "source": [
    "#Create a function for finding the count of elements in a string. \"Srm university\"\n",
    "String=str(input(\"Enter the string:  \"))\n",
    "\n",
    "def countletter(String):\n",
    "    lcount=0\n",
    "    \n",
    "    for i in String:\n",
    "        if i.isalpha():\n",
    "            lcount+=1\n",
    "    return lcount\n",
    "countletter(String)\n"
   ]
  }
 ],
 "metadata": {
  "kernelspec": {
   "display_name": "Python 3",
   "language": "python",
   "name": "python3"
  },
  "language_info": {
   "codemirror_mode": {
    "name": "ipython",
    "version": 3
   },
   "file_extension": ".py",
   "mimetype": "text/x-python",
   "name": "python",
   "nbconvert_exporter": "python",
   "pygments_lexer": "ipython3",
   "version": "3.7.3"
  }
 },
 "nbformat": 4,
 "nbformat_minor": 2
}
