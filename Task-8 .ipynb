{
 "cells": [
  {
   "cell_type": "markdown",
   "metadata": {},
   "source": [
    "Question\n",
    "\n",
    "   **Write a program in module**\n",
    "   **Ask the user to enter the data**\n",
    "   **Check the data if it's camelcase print Like (Thumbsup)emoji**\n",
    "   **Else convert the data into camelcase then speakout Successfully converted your data into camel case**"
   ]
  },
  {
   "cell_type": "code",
   "execution_count": 1,
   "metadata": {
    "scrolled": true
   },
   "outputs": [
    {
     "name": "stdout",
     "output_type": "stream",
     "text": [
      "Enter the data:   srm university - amaravati\n",
      "Srm University - Amaravati\n"
     ]
    }
   ],
   "source": [
    "#Testcase-1\n",
    "import camelcase\n",
    "import emoji\n",
    "import pyttsx3\n",
    "\n",
    "data=input(\"Enter the data:   \")\n",
    "x=camelcase.CamelCase()\n",
    "\n",
    "\n",
    "if data==x.hump(data):\n",
    "     print(u\"\\U0001F44D\")\n",
    "    \n",
    "else:\n",
    "    print(x.hump(data))\n",
    "    spk = pyttsx3.init()\n",
    "    spk.say(\"Successfully converted your data into camel case\")\n",
    "    spk.runAndWait()\n",
    "    "
   ]
  },
  {
   "cell_type": "code",
   "execution_count": 2,
   "metadata": {},
   "outputs": [
    {
     "name": "stdout",
     "output_type": "stream",
     "text": [
      "Enter the data:   Srm University - Amaravati\n",
      "👍\n"
     ]
    }
   ],
   "source": [
    "#Testcase-2\n",
    "import camelcase\n",
    "import emoji\n",
    "import pyttsx3\n",
    "\n",
    "data=input(\"Enter the data:   \")\n",
    "x=camelcase.CamelCase()\n",
    "\n",
    "\n",
    "if data==x.hump(data):\n",
    "     print(u\"\\U0001F44D\")\n",
    "    \n",
    "else:\n",
    "    print(x.hump(data))\n",
    "    spk = pyttsx3.init()\n",
    "    spk.say(\"Successfully converted your data into camel case\")\n",
    "    spk.runAndWait()\n",
    "    "
   ]
  }
 ],
 "metadata": {
  "kernelspec": {
   "display_name": "Python 3",
   "language": "python",
   "name": "python3"
  },
  "language_info": {
   "codemirror_mode": {
    "name": "ipython",
    "version": 3
   },
   "file_extension": ".py",
   "mimetype": "text/x-python",
   "name": "python",
   "nbconvert_exporter": "python",
   "pygments_lexer": "ipython3",
   "version": "3.7.3"
  }
 },
 "nbformat": 4,
 "nbformat_minor": 2
}
