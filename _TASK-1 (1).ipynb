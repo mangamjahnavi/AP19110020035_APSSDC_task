{
 "cells": [
  {
   "cell_type": "markdown",
   "metadata": {},
   "source": [
    "# Task-1\n",
    "\n"
   ]
  },
  {
   "cell_type": "code",
   "execution_count": 1,
   "metadata": {},
   "outputs": [
    {
     "name": "stdout",
     "output_type": "stream",
     "text": [
      "Enter your age:   5\n",
      "User is not eligible to vote\n",
      "User Age is 5\n"
     ]
    }
   ],
   "source": [
    "#Write a program to check whether user is eligible to vote or not\n",
    "Age= int(input(\"Enter your age:   \"))\n",
    "if Age>=18:\n",
    "    print(\"User is eligible to vote\")\n",
    "else:\n",
    "    print(\"User is not eligible to vote\")\n",
    "print(\"User Age is\",Age )"
   ]
  },
  {
   "cell_type": "code",
   "execution_count": 4,
   "metadata": {},
   "outputs": [
    {
     "name": "stdout",
     "output_type": "stream",
     "text": [
      "Enter the number:   -100\n",
      "The number is negative\n"
     ]
    }
   ],
   "source": [
    "#Check the given number is positive or negative\n",
    "num= int(input(\"Enter the number:   \"))\n",
    "if num>=0:\n",
    "    print(\"The number is positive\")\n",
    "else:\n",
    "    print(\"The number is negative\")"
   ]
  },
  {
   "cell_type": "code",
   "execution_count": 7,
   "metadata": {},
   "outputs": [
    {
     "name": "stdout",
     "output_type": "stream",
     "text": [
      "Enter the number:   24\n",
      "The number is even\n",
      "The number is divisible by 4\n"
     ]
    }
   ],
   "source": [
    "#Check whether the given number is even or odd, if it's even which is divisible by four or not\n",
    "num= int(input(\"Enter the number:   \"))\n",
    "if num%2==0:\n",
    "    print(\"The number is even\")\n",
    "    if num%4==0:\n",
    "        print(\"The number is divisible by 4\")\n",
    "    else:\n",
    "        print(\"The number is not divisible by 4\")\n",
    "    \n",
    "else:\n",
    "    print(\"The number is odd\")\n"
   ]
  },
  {
   "cell_type": "code",
   "execution_count": 10,
   "metadata": {},
   "outputs": [
    {
     "name": "stdout",
     "output_type": "stream",
     "text": [
      "Enter the percentage:   50\n",
      "Student is passed  with Grade-B\n"
     ]
    }
   ],
   "source": [
    "#Write a program to print student grade based on percentage like distinction,pass (or) fail\n",
    "percentage=float(input(\"Enter the percentage:   \"))\n",
    "if percentage>=85:\n",
    "    print(\"Student is passed at Dsitinction with Grade-A\")\n",
    "elif percentage>=35:\n",
    "    print(\"Student is passed  with Grade-B\")\n",
    "else:\n",
    "    print(\"Student is failed with Grade-C\")"
   ]
  },
  {
   "cell_type": "code",
   "execution_count": 14,
   "metadata": {},
   "outputs": [
    {
     "name": "stdout",
     "output_type": "stream",
     "text": [
      "Enter Year: 2018\n",
      "2018 is not a Leap Year\n"
     ]
    }
   ],
   "source": [
    "#Check the given year is leap or not\n",
    "year = int(input(\"Enter Year: \"))\n",
    "if year % 4 == 0 and year % 100 != 0:\n",
    "    print(year, \"is a Leap Year\")\n",
    "elif year % 100 == 0:\n",
    "    print(year, \"is not a Leap Year\")\n",
    "elif year % 400 ==0:\n",
    "    print(year, \"is a Leap Year\")\n",
    "else:\n",
    "    print(year, \"is not a Leap Year\")\n"
   ]
  },
  {
   "cell_type": "code",
   "execution_count": null,
   "metadata": {},
   "outputs": [],
   "source": []
  },
  {
   "cell_type": "code",
   "execution_count": null,
   "metadata": {},
   "outputs": [],
   "source": []
  }
 ],
 "metadata": {
  "kernelspec": {
   "display_name": "Python 3",
   "language": "python",
   "name": "python3"
  },
  "language_info": {
   "codemirror_mode": {
    "name": "ipython",
    "version": 3
   },
   "file_extension": ".py",
   "mimetype": "text/x-python",
   "name": "python",
   "nbconvert_exporter": "python",
   "pygments_lexer": "ipython3",
   "version": "3.7.3"
  }
 },
 "nbformat": 4,
 "nbformat_minor": 2
}
